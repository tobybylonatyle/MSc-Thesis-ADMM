{
 "cells": [
  {
   "cell_type": "code",
   "execution_count": 51,
   "metadata": {},
   "outputs": [],
   "source": [
    "import main as main\n",
    "import pyomo.environ as pyo\n",
    "import numpy as np"
   ]
  },
  {
   "cell_type": "code",
   "execution_count": 4,
   "metadata": {},
   "outputs": [
    {
     "name": "stdout",
     "output_type": "stream",
     "text": [
      "> Solving RFL\n"
     ]
    }
   ],
   "source": [
    "result, location_instance = main.solve_RFL()"
   ]
  },
  {
   "cell_type": "code",
   "execution_count": 42,
   "metadata": {},
   "outputs": [
    {
     "name": "stdout",
     "output_type": "stream",
     "text": [
      "48.0 10.0\n"
     ]
    }
   ],
   "source": [
    "# pyo.value(location_instance.dual[1])\n",
    "# print(pyo.value(location_instance.N_t), pyo.value(location_instance.N_l))\n",
    "\n",
    "dualsT = []\n",
    "exports_S_TL = np.zeros((int(pyo.value(location_instance.N_t)), int(pyo.value(location_instance.N_l))))\n",
    "imports_S_TL = np.zeros((int(pyo.value(location_instance.N_t)), int(pyo.value(location_instance.N_l))))\n",
    "for t in location_instance.T:\n",
    "    # print(f\"Time: {t} -- \",pyo.value(location_instance.dual[t]))\n",
    "    dualsT.append(pyo.value(location_instance.dual[t]))\n",
    "\n",
    "\n",
    "    for l in location_instance.L:\n",
    "        exports_S_TL[t-1,l-1] = pyo.value(location_instance.e_S[t,l])\n",
    "        imports_S_TL[t-1,l-1] = pyo.value(location_instance.i_S[t,l])"
   ]
  },
  {
   "cell_type": "code",
   "execution_count": 52,
   "metadata": {},
   "outputs": [
    {
     "name": "stdout",
     "output_type": "stream",
     "text": [
      "> Solving RFL\n"
     ]
    },
    {
     "ename": "ValueError",
     "evalue": "not enough values to unpack (expected 3, got 2)",
     "output_type": "error",
     "traceback": [
      "\u001b[1;31m---------------------------------------------------------------------------\u001b[0m",
      "\u001b[1;31mValueError\u001b[0m                                Traceback (most recent call last)",
      "\u001b[1;32mc:\\Users\\rafal\\Documents\\EdinburghUni\\Thesis\\Code - Rafal\\main.ipynb Cell 4'\u001b[0m in \u001b[0;36m<cell line: 1>\u001b[1;34m()\u001b[0m\n\u001b[1;32m----> <a href='vscode-notebook-cell:/c%3A/Users/rafal/Documents/EdinburghUni/Thesis/Code%20-%20Rafal/main.ipynb#ch0000003?line=0'>1</a>\u001b[0m dualsT,  exports_S_TL, imports_S_TL \u001b[39m=\u001b[39m main\u001b[39m.\u001b[39msolve_RFL()\n",
      "\u001b[1;31mValueError\u001b[0m: not enough values to unpack (expected 3, got 2)"
     ]
    }
   ],
   "source": [
    "dualsT,  exports_S_TL, imports_S_TL = main.solve_RFL()"
   ]
  },
  {
   "cell_type": "code",
   "execution_count": 58,
   "metadata": {},
   "outputs": [
    {
     "data": {
      "text/plain": [
       "5.477225575051661"
      ]
     },
     "execution_count": 58,
     "metadata": {},
     "output_type": "execute_result"
    }
   ],
   "source": [
    "np.linalg.norm([1,2,3,4])"
   ]
  }
 ],
 "metadata": {
  "kernelspec": {
   "display_name": "Python 3.9.2 64-bit (system)",
   "language": "python",
   "name": "python3"
  },
  "language_info": {
   "codemirror_mode": {
    "name": "ipython",
    "version": 3
   },
   "file_extension": ".py",
   "mimetype": "text/x-python",
   "name": "python",
   "nbconvert_exporter": "python",
   "pygments_lexer": "ipython3",
   "version": "3.9.2"
  },
  "orig_nbformat": 4,
  "vscode": {
   "interpreter": {
    "hash": "e86eda05f7dd9bded92b586507242495c08b448221b191ea1ed009553baeb87f"
   }
  }
 },
 "nbformat": 4,
 "nbformat_minor": 2
}
